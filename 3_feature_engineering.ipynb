{
 "cells": [
  {
   "cell_type": "markdown",
   "metadata": {},
   "source": [
    "# Feature Engineering\n",
    "\n",
    "This notebook will compute all the features.\n",
    "\n",
    "The features will consist of:\n",
    "- Rolling aggregates (mean, max, std) of anglez and enmo over a variety of window sizes, from 5 minutes to 8 hours.\n",
    "- Rolling aggregates (mean, max, std) of anglez and enmo total variation (or first variation, i.e. 1v) over a variety of window sizes, from 5 minutes to 8 hours.\n",
    "\n",
    "\n",
    "https://www.kaggle.com/code/lccburk/feature-engineering-and-random-forest-prediction"
   ]
  },
  {
   "cell_type": "markdown",
   "metadata": {},
   "source": [
    "**Imports**"
   ]
  },
  {
   "cell_type": "code",
   "execution_count": 2,
   "metadata": {},
   "outputs": [],
   "source": [
    "import pandas as pd\n",
    "import numpy as np\n",
    "import matplotlib.pyplot as plt\n",
    "import seaborn as sns\n",
    "import polars as pl\n",
    "\n",
    "from tqdm import tqdm"
   ]
  },
  {
   "cell_type": "markdown",
   "metadata": {},
   "source": [
    "**Parameters**"
   ]
  },
  {
   "cell_type": "code",
   "execution_count": 3,
   "metadata": {},
   "outputs": [],
   "source": [
    "WINDOW_SIZES = [5, 30, 2*60, 8*60] # 5min, 30min, 2hours, 8hours\n",
    "\n",
    "ID_COLUMNS = ['series_id', 'step', 'timestamp']\n",
    "\n",
    "TIME_COLUMNS = ['second', 'minute', 'hour', 'day', 'month']\n",
    "\n",
    "FEATURE_TIME_NAMES = [\n",
    "    \"hour_sin\",\n",
    "    \"hour_cos\",\n",
    "    \"month_sin\",\n",
    "    \"month_cos\",\n",
    "    \"minute_sin\",\n",
    "    \"minute_cos\",\n",
    "    \"anglez_sin\",\n",
    "    \"anglez_cos\",\n",
    "]\n"
   ]
  },
  {
   "cell_type": "code",
   "execution_count": 3,
   "metadata": {},
   "outputs": [],
   "source": [
    "def add_timestamp_columns(df):\n",
    "    \"\"\"\n",
    "    Add timestamp-related columns to a Polars DataFrame.\n",
    "\n",
    "    Parameters\n",
    "    ----------\n",
    "    df : pl.DataFrame\n",
    "        The input Polars DataFrame containing a 'timestamp' column.\n",
    "\n",
    "    Returns\n",
    "    -------\n",
    "    pl.DataFrame\n",
    "        A new Polars DataFrame with additional columns for year, month, day,\n",
    "        hour, minute, and second extracted from the 'timestamp' column.\n",
    "    \"\"\"\n",
    "    df = (\n",
    "        df\n",
    "        .with_row_count('step')\n",
    "        .with_columns(\n",
    "            year=df['timestamp'].dt.year().cast(pl.Int16),\n",
    "            month=df['timestamp'].dt.month().cast(pl.Int8),\n",
    "            day=df['timestamp'].dt.day().cast(pl.Int8),\n",
    "            hour=df['timestamp'].dt.hour().cast(pl.Int8),\n",
    "            minute=df['timestamp'].dt.minute().cast(pl.Int8),\n",
    "            second=df['timestamp'].dt.second().cast(pl.Int8),\n",
    "        )\n",
    "    )\n",
    "    return df"
   ]
  },
  {
   "cell_type": "markdown",
   "metadata": {},
   "source": [
    "**Rolling Features**"
   ]
  },
  {
   "cell_type": "code",
   "execution_count": 4,
   "metadata": {},
   "outputs": [],
   "source": [
    "def add_rolling_features(df, WINDOW_SIZES, var_list=['enmo', 'anglez']):\n",
    "    \"\"\"\n",
    "    Generate windowed features for a given Polars DataFrame.\n",
    "\n",
    "    Parameters\n",
    "    ----------\n",
    "    df : pl.DataFrame\n",
    "        The input Polars DataFrame.\n",
    "    WINDOW_SIZES : list of int\n",
    "        A list of window sizes in minutes for rolling calculations.\n",
    "    var_list : list of str, optional\n",
    "        A list of column names to calculate features for, by default ['enmo', 'anglez'].\n",
    "\n",
    "    Returns\n",
    "    -------\n",
    "    pl.DataFrame\n",
    "        A new Polars DataFrame with windowed features added based on the specified window sizes\n",
    "        and columns in var_list.\n",
    "    \"\"\"\n",
    "    features, feature_cols = [], []\n",
    "\n",
    "    for mins in WINDOW_SIZES:\n",
    "        for var in var_list:\n",
    "\n",
    "            # Getting basic features\n",
    "            features += [\n",
    "                pl.col(var).rolling_mean(2 * mins, center=True, min_periods=1).abs().cast(pl.UInt16).alias(f'{var}_{mins}m_mean'),\n",
    "                pl.col(var).rolling_max(2 * mins, center=True, min_periods=1).abs().cast(pl.UInt16).alias(f'{var}_{mins}m_max'),\n",
    "                pl.col(var).rolling_std(2 * mins, center=True, min_periods=1).abs().cast(pl.UInt16).alias(f'{var}_{mins}m_std')\n",
    "            ]\n",
    "\n",
    "            feature_cols += [\n",
    "                f'{var}_{mins}m_mean', f'{var}_{mins}m_max', f'{var}_{mins}m_std'\n",
    "            ]\n",
    "\n",
    "            # Getting first variations\n",
    "            features += [\n",
    "                (pl.col(var).diff().abs().rolling_mean(2 * mins, center=True, min_periods=1)*10).abs().cast(pl.UInt32).alias(f'{var}_1v_{mins}m_mean'),\n",
    "                (pl.col(var).diff().abs().rolling_max(2 * mins, center=True, min_periods=1)*10).abs().cast(pl.UInt32).alias(f'{var}_1v_{mins}m_max'),\n",
    "                (pl.col(var).diff().abs().rolling_std(2 * mins, center=True, min_periods=1)*10).abs().cast(pl.UInt32).alias(f'{var}_1v_{mins}m_std')\n",
    "            ]\n",
    "\n",
    "            feature_cols += [\n",
    "                f'{var}_1v_{mins}m_mean', f'{var}_1v_{mins}m_max', f'{var}_1v_{mins}m_std'\n",
    "            ]\n",
    "\n",
    "    train_series = df.with_columns(features)\n",
    "\n",
    "    return train_series"
   ]
  },
  {
   "cell_type": "markdown",
   "metadata": {},
   "source": [
    "**Circular Features**"
   ]
  },
  {
   "cell_type": "code",
   "execution_count": 5,
   "metadata": {},
   "outputs": [],
   "source": [
    "def to_coord(x: pl.Expr, max_: int, name: str) -> list[pl.Expr]:\n",
    "    \"\"\"\n",
    "    Convert a Polar coordinate to its sine and cosine components.\n",
    "\n",
    "    Parameters\n",
    "    ----------\n",
    "    x : pl.Expr\n",
    "        The input expression representing the Polar coordinate.\n",
    "    max_ : int\n",
    "        The maximum value for the coordinate (e.g., 24 for hours, 12 for months, 60 for minutes).\n",
    "    name : str\n",
    "        The name for the coordinate component.\n",
    "\n",
    "    Returns\n",
    "    -------\n",
    "    list[pl.Expr]\n",
    "        A list containing two expressions representing the sine and cosine components of the coordinate.\n",
    "    \"\"\"\n",
    "    rad = 2 * np.pi * (x % max_) / max_\n",
    "    x_sin = rad.sin()\n",
    "    x_cos = rad.cos()\n",
    "\n",
    "    return [x_sin.alias(f\"{name}_sin\"), x_cos.alias(f\"{name}_cos\")]\n",
    "\n",
    "def add_circular_feature(series_df: pl.DataFrame) -> pl.DataFrame:\n",
    "    \"\"\"\n",
    "    Add sine and cosine components of specific Polar coordinates to a Polars DataFrame.\n",
    "\n",
    "    Parameters\n",
    "    ----------\n",
    "    series_df : pl.DataFrame\n",
    "        The input Polars DataFrame.\n",
    "\n",
    "    Returns\n",
    "    -------\n",
    "    pl.DataFrame\n",
    "        A new Polars DataFrame with sine and cosine components added for 'hour', 'month', 'minute',\n",
    "        'anglez' columns.\n",
    "    \"\"\"\n",
    "    series_df = (\n",
    "        series_df\n",
    "        .with_columns(\n",
    "            *to_coord(pl.col(\"hour\"), 24, \"hour\"),\n",
    "            *to_coord(pl.col(\"month\"), 12, \"month\"),\n",
    "            *to_coord(pl.col(\"minute\"), 60, \"minute\"),\n",
    "            pl.col('anglez').sin().alias('anglez_sin'),\n",
    "            pl.col('anglez').cos().alias('anglez_cos'),\n",
    "        )\n",
    "    )\n",
    "    return series_df\n"
   ]
  },
  {
   "cell_type": "markdown",
   "metadata": {},
   "source": [
    "## Apply"
   ]
  },
  {
   "cell_type": "markdown",
   "metadata": {},
   "source": [
    "**Export a subset of the features**"
   ]
  },
  {
   "cell_type": "code",
   "execution_count": 6,
   "metadata": {},
   "outputs": [],
   "source": [
    "df = pl.read_parquet('data/train_dataset.parquet')\n",
    "series_name = df['series_id'].unique()"
   ]
  },
  {
   "cell_type": "code",
   "execution_count": 7,
   "metadata": {},
   "outputs": [],
   "source": [
    "df_feature = df.filter(\n",
    "    pl.col('series_id').is_in(series_name.sample(40)),\n",
    ")"
   ]
  },
  {
   "cell_type": "code",
   "execution_count": 9,
   "metadata": {},
   "outputs": [],
   "source": [
    "df_feature = add_timestamp_columns(df_feature)\n",
    "df_feature = add_circular_feature(df_feature)\n",
    "df_feature = add_rolling_features(df_feature, WINDOW_SIZES)"
   ]
  },
  {
   "cell_type": "code",
   "execution_count": 10,
   "metadata": {},
   "outputs": [],
   "source": [
    "df_feature.write_parquet('data/train_dataset_feature.parquet')"
   ]
  },
  {
   "cell_type": "markdown",
   "metadata": {},
   "source": [
    "**1 series**"
   ]
  },
  {
   "cell_type": "code",
   "execution_count": null,
   "metadata": {},
   "outputs": [],
   "source": [
    "EXPORT_1_SERIES = False\n",
    "if EXPORT_1_SERIES:\n",
    "    df = pl.read_parquet('data/78569a801a38.parquet')\n",
    "    df = add_timestamp_columns(df)\n",
    "    df = add_rolling_features(df, WINDOW_SIZES)\n",
    "    df = add_circular_feature(df)\n",
    "\n",
    "    df2 = pl.read_parquet('data/f564985ab692.parquet')\n",
    "    df2 = add_timestamp_columns(df2)\n",
    "    df2 = add_rolling_features(df2, WINDOW_SIZES)\n",
    "    df2 = add_circular_feature(df2)"
   ]
  },
  {
   "cell_type": "markdown",
   "metadata": {},
   "source": [
    "**Export all the features**"
   ]
  },
  {
   "cell_type": "code",
   "execution_count": 9,
   "metadata": {},
   "outputs": [],
   "source": [
    "EXPORT_ALL = False\n",
    "\n",
    "if EXPORT_ALL:\n",
    "    df = pl.read_parquet('data/train_dataset.parquet')\n",
    "    df = add_timestamp_columns(df)\n",
    "    df = add_circular_feature(df)\n",
    "    df = add_rolling_features(df, WINDOW_SIZES)"
   ]
  }
 ],
 "metadata": {
  "kernelspec": {
   "display_name": "ml",
   "language": "python",
   "name": "python3"
  },
  "language_info": {
   "codemirror_mode": {
    "name": "ipython",
    "version": 3
   },
   "file_extension": ".py",
   "mimetype": "text/x-python",
   "name": "python",
   "nbconvert_exporter": "python",
   "pygments_lexer": "ipython3",
   "version": "3.10.13"
  }
 },
 "nbformat": 4,
 "nbformat_minor": 2
}
