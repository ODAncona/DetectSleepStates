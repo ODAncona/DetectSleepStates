{
 "cells": [
  {
   "cell_type": "markdown",
   "metadata": {},
   "source": [
    "# Data Preparation"
   ]
  },
  {
   "cell_type": "markdown",
   "metadata": {},
   "source": [
    "This notebook will be used to prepare the data for machine learning.\n",
    "\n",
    "1. Annotate the dataset (Sleep 0 /Awake 1)\n",
    "2. Signal Preparation (scaling, missing data, outliers, smoothing)\n",
    "3. Subset generation (light, medium, heavy)"
   ]
  },
  {
   "cell_type": "markdown",
   "metadata": {},
   "source": [
    "## Import\n"
   ]
  },
  {
   "cell_type": "code",
   "execution_count": 1,
   "metadata": {},
   "outputs": [],
   "source": [
    "import pandas as pd\n",
    "import numpy as np\n",
    "import matplotlib.pyplot as plt\n",
    "import seaborn as sns\n",
    "import polars as pl\n",
    "\n",
    "from tqdm import tqdm"
   ]
  },
  {
   "cell_type": "markdown",
   "metadata": {},
   "source": [
    "## Data Preparation"
   ]
  },
  {
   "cell_type": "markdown",
   "metadata": {},
   "source": [
    "**Convert timestamp to datetime**\n"
   ]
  },
  {
   "cell_type": "code",
   "execution_count": 2,
   "metadata": {},
   "outputs": [],
   "source": [
    "timestamp = [\n",
    "    pl.col(\"timestamp\").str.to_datetime(\"%Y-%m-%dT%H:%M:%S%z\")\n",
    "]"
   ]
  },
  {
   "cell_type": "markdown",
   "metadata": {},
   "source": [
    "**Min-max normalization**"
   ]
  },
  {
   "cell_type": "code",
   "execution_count": 3,
   "metadata": {},
   "outputs": [],
   "source": [
    "min_max_normalization = lambda x: (x - x.min()) / (x.max() - x.min())\n",
    "normalization = [\n",
    "    pl.col(\"anglez\").map_batches(min_max_normalization).cast(pl.Float32), \n",
    "    pl.col(\"enmo\").map_batches(min_max_normalization).cast(pl.Float32),\n",
    "    pl.col(\"step\").cast(pl.UInt32),\n",
    "]\n"
   ]
  },
  {
   "cell_type": "markdown",
   "metadata": {},
   "source": [
    "**Data import**"
   ]
  },
  {
   "cell_type": "code",
   "execution_count": 4,
   "metadata": {},
   "outputs": [],
   "source": [
    "df_signals = pl.scan_parquet(\"data/train_series.parquet\").with_columns(\n",
    "    timestamp + normalization\n",
    ").collect(streaming=True)"
   ]
  },
  {
   "cell_type": "code",
   "execution_count": 5,
   "metadata": {},
   "outputs": [],
   "source": [
    "df_events = pl.scan_csv(\"data/train_events.csv\").with_columns(\n",
    "    timestamp + [pl.col(\"step\").cast(pl.UInt32)]\n",
    ").drop_nulls().collect()"
   ]
  },
  {
   "cell_type": "markdown",
   "metadata": {},
   "source": [
    "**Data cleaning**"
   ]
  },
  {
   "cell_type": "code",
   "execution_count": 6,
   "metadata": {},
   "outputs": [
    {
     "name": "stdout",
     "output_type": "stream",
     "text": [
      "The mismatch Onset and Wakeup are : \n",
      " shape: (5, 2)\n",
      "┌──────────────┬───────┐\n",
      "│ series_id    ┆ night │\n",
      "│ ---          ┆ ---   │\n",
      "│ str          ┆ i64   │\n",
      "╞══════════════╪═══════╡\n",
      "│ 0ce74d6d2106 ┆ 20    │\n",
      "│ 154fe824ed87 ┆ 30    │\n",
      "│ 44a41bba1ee7 ┆ 10    │\n",
      "│ efbfc4526d58 ┆ 7     │\n",
      "│ f8a8da8bdd00 ┆ 17    │\n",
      "└──────────────┴───────┘\n"
     ]
    }
   ],
   "source": [
    "# Removing null events and nights with mismatched counts from series_events\n",
    "mismatches = df_events.group_by(['series_id', 'night']).agg(\n",
    "    (pl.col('event') == 'onset').sum().alias('onset'),\n",
    "    (pl.col('event') == 'wakeup').sum().alias('wakeup')\n",
    "    ).sort(by=['series_id', 'night']).filter(pl.col('onset') != pl.col('wakeup')).select(pl.all().exclude('onset', 'wakeup'))\n",
    "print(f\"The mismatch Onset and Wakeup are : \\n {mismatches}\")\n",
    "df_events = df_events.join(mismatches, on=['series_id', 'night'], how='anti')\n"
   ]
  },
  {
   "cell_type": "code",
   "execution_count": 7,
   "metadata": {},
   "outputs": [
    {
     "name": "stdout",
     "output_type": "stream",
     "text": [
      "shape: (10, 5)\n",
      "┌──────────────┬───────┬────────┬───────┬─────────────────────────┐\n",
      "│ series_id    ┆ night ┆ event  ┆ step  ┆ timestamp               │\n",
      "│ ---          ┆ ---   ┆ ---    ┆ ---   ┆ ---                     │\n",
      "│ str          ┆ i64   ┆ str    ┆ u32   ┆ datetime[μs, UTC]       │\n",
      "╞══════════════╪═══════╪════════╪═══════╪═════════════════════════╡\n",
      "│ 038441c925bb ┆ 1     ┆ onset  ┆ 4992  ┆ 2018-08-15 02:26:00 UTC │\n",
      "│ 038441c925bb ┆ 1     ┆ wakeup ┆ 10932 ┆ 2018-08-15 10:41:00 UTC │\n",
      "│ 038441c925bb ┆ 2     ┆ onset  ┆ 20244 ┆ 2018-08-15 23:37:00 UTC │\n",
      "│ 038441c925bb ┆ 2     ┆ wakeup ┆ 27492 ┆ 2018-08-16 09:41:00 UTC │\n",
      "│ …            ┆ …     ┆ …      ┆ …     ┆ …                       │\n",
      "│ 038441c925bb ┆ 4     ┆ onset  ┆ 57240 ┆ 2018-08-18 03:00:00 UTC │\n",
      "│ 038441c925bb ┆ 4     ┆ wakeup ┆ 62856 ┆ 2018-08-18 10:48:00 UTC │\n",
      "│ 038441c925bb ┆ 6     ┆ onset  ┆ 91296 ┆ 2018-08-20 02:18:00 UTC │\n",
      "│ 038441c925bb ┆ 6     ┆ wakeup ┆ 97860 ┆ 2018-08-20 11:25:00 UTC │\n",
      "└──────────────┴───────┴────────┴───────┴─────────────────────────┘\n"
     ]
    }
   ],
   "source": [
    "print(df_events.head(10))"
   ]
  },
  {
   "cell_type": "code",
   "execution_count": 8,
   "metadata": {},
   "outputs": [],
   "source": [
    "# Count for each series_id the number of onset and wakeup events\n",
    "df_events_problem = df_events.group_by(['series_id']).agg(\n",
    "    (pl.col('event') == 'onset').sum().alias('onset'),\n",
    "    (pl.col('event') == 'wakeup').sum().alias('wakeup')\n",
    "    ).sort(by=['series_id'])"
   ]
  },
  {
   "cell_type": "code",
   "execution_count": 9,
   "metadata": {},
   "outputs": [
    {
     "name": "stdout",
     "output_type": "stream",
     "text": [
      "The mismatch Onset and Wakeup are : \n",
      " shape: (0, 1)\n",
      "┌───────────┐\n",
      "│ series_id │\n",
      "│ ---       │\n",
      "│ str       │\n",
      "╞═══════════╡\n",
      "└───────────┘\n"
     ]
    }
   ],
   "source": [
    "# display the series_id with mismatched counts\n",
    "mismatches = df_events_problem.filter(pl.col('onset') != pl.col('wakeup')).select(pl.all().exclude('onset', 'wakeup'))\n",
    "print(f\"The mismatch Onset and Wakeup are : \\n {mismatches}\")"
   ]
  },
  {
   "cell_type": "code",
   "execution_count": 31,
   "metadata": {},
   "outputs": [],
   "source": [
    "# Extended signals data\n",
    "timestamps = ([f\"2022-01-01 {hour:02d}:00:00\" for hour in range(24)] + \n",
    "             [\"2022-01-02 00:00:00\"] +\n",
    "             [f\"2022-01-02 {hour:02d}:00:00\" for hour in range(1, 13)])\n",
    "\n",
    "df_signals = pl.DataFrame({\n",
    "    \"series_id\": [\"A\"] * 37 + [\"B\"] * 37 + [\"C\"] * 37,\n",
    "    \"timestamp\": timestamps * 3,\n",
    "    \"step\": list(range(1, 38)) * 3\n",
    "})\n",
    "\n",
    "# Extended events data\n",
    "df_events = pl.DataFrame({\n",
    "    \"series_id\": [\"A\", \"A\", \"B\", \"B\", \"C\", \"C\"],\n",
    "    \"night\": [1, 1, 1, 1, 1, 1],\n",
    "    \"event\": [\"onset\", \"wakeup\", \"onset\", \"wakeup\", \"onset\", \"wakeup\"],\n",
    "    \"timestamp\": [\"2022-01-01 02:00:00\", \"2022-01-01 14:00:00\", \"2022-01-01 03:00:00\",\n",
    "                 \"2022-01-01 15:00:00\", \"2022-01-01 04:00:00\", \"2022-01-01 16:00:00\"],\n",
    "    \"step\": [3, 15, 4, 16, 5, 17]\n",
    "})\n"
   ]
  },
  {
   "cell_type": "code",
   "execution_count": 37,
   "metadata": {},
   "outputs": [
    {
     "name": "stdout",
     "output_type": "stream",
     "text": [
      "shape: (37, 3)\n",
      "┌───────────┬─────────────────────┬──────┐\n",
      "│ series_id ┆ timestamp           ┆ step │\n",
      "│ ---       ┆ ---                 ┆ ---  │\n",
      "│ str       ┆ str                 ┆ i64  │\n",
      "╞═══════════╪═════════════════════╪══════╡\n",
      "│ A         ┆ 2022-01-01 00:00:00 ┆ 1    │\n",
      "│ A         ┆ 2022-01-01 01:00:00 ┆ 2    │\n",
      "│ A         ┆ 2022-01-01 02:00:00 ┆ 3    │\n",
      "│ A         ┆ 2022-01-01 03:00:00 ┆ 4    │\n",
      "│ …         ┆ …                   ┆ …    │\n",
      "│ A         ┆ 2022-01-02 09:00:00 ┆ 34   │\n",
      "│ A         ┆ 2022-01-02 10:00:00 ┆ 35   │\n",
      "│ A         ┆ 2022-01-02 11:00:00 ┆ 36   │\n",
      "│ A         ┆ 2022-01-02 12:00:00 ┆ 37   │\n",
      "└───────────┴─────────────────────┴──────┘\n"
     ]
    }
   ],
   "source": [
    "print(df_signals.filter(pl.col('series_id') == 'A'))"
   ]
  },
  {
   "cell_type": "code",
   "execution_count": 33,
   "metadata": {},
   "outputs": [
    {
     "name": "stdout",
     "output_type": "stream",
     "text": [
      "shape: (6, 5)\n",
      "┌───────────┬───────┬────────┬─────────────────────┬──────┐\n",
      "│ series_id ┆ night ┆ event  ┆ timestamp           ┆ step │\n",
      "│ ---       ┆ ---   ┆ ---    ┆ ---                 ┆ ---  │\n",
      "│ str       ┆ i64   ┆ str    ┆ str                 ┆ i64  │\n",
      "╞═══════════╪═══════╪════════╪═════════════════════╪══════╡\n",
      "│ A         ┆ 1     ┆ onset  ┆ 2022-01-01 02:00:00 ┆ 3    │\n",
      "│ A         ┆ 1     ┆ wakeup ┆ 2022-01-01 14:00:00 ┆ 15   │\n",
      "│ B         ┆ 1     ┆ onset  ┆ 2022-01-01 03:00:00 ┆ 4    │\n",
      "│ B         ┆ 1     ┆ wakeup ┆ 2022-01-01 15:00:00 ┆ 16   │\n",
      "│ C         ┆ 1     ┆ onset  ┆ 2022-01-01 04:00:00 ┆ 5    │\n",
      "│ C         ┆ 1     ┆ wakeup ┆ 2022-01-01 16:00:00 ┆ 17   │\n",
      "└───────────┴───────┴────────┴─────────────────────┴──────┘\n"
     ]
    }
   ],
   "source": [
    "print(df_events)"
   ]
  },
  {
   "cell_type": "code",
   "execution_count": 27,
   "metadata": {},
   "outputs": [],
   "source": [
    "# Detect and remove mismatched onsets/wakeups\n",
    "mismatches = df_events.group_by(['series_id', 'night']).agg(\n",
    "    (pl.col('event') == 'onset').sum().alias('onset'),\n",
    "    (pl.col('event') == 'wakeup').sum().alias('wakeup')\n",
    ").filter(pl.col('onset') != pl.col('wakeup')).select(pl.all().exclude('onset', 'wakeup'))\n",
    "df_events = df_events.join(mismatches, on=['series_id', 'night'], how='anti')\n"
   ]
  },
  {
   "cell_type": "code",
   "execution_count": 29,
   "metadata": {},
   "outputs": [
    {
     "name": "stdout",
     "output_type": "stream",
     "text": [
      "shape: (8, 7)\n",
      "┌───────────┬─────────────────────┬──────┬────────┬────────────┬─────────────┬───────┐\n",
      "│ series_id ┆ timestamp           ┆ step ┆ event  ┆ onset_step ┆ wakeup_step ┆ state │\n",
      "│ ---       ┆ ---                 ┆ ---  ┆ ---    ┆ ---        ┆ ---         ┆ ---   │\n",
      "│ str       ┆ str                 ┆ i64  ┆ str    ┆ i64        ┆ i64         ┆ bool  │\n",
      "╞═══════════╪═════════════════════╪══════╪════════╪════════════╪═════════════╪═══════╡\n",
      "│ A         ┆ 2022-01-01 01:00:00 ┆ 1    ┆ null   ┆ null       ┆ null        ┆ null  │\n",
      "│ A         ┆ 2022-01-01 02:00:00 ┆ 2    ┆ onset  ┆ 2          ┆ null        ┆ true  │\n",
      "│ A         ┆ 2022-01-01 03:00:00 ┆ 3    ┆ null   ┆ 2          ┆ null        ┆ true  │\n",
      "│ A         ┆ 2022-01-01 04:00:00 ┆ 4    ┆ wakeup ┆ 2          ┆ 4           ┆ false │\n",
      "│ B         ┆ 2022-01-01 01:00:00 ┆ 1    ┆ null   ┆ 2          ┆ 4           ┆ false │\n",
      "│ B         ┆ 2022-01-01 02:00:00 ┆ 2    ┆ null   ┆ 2          ┆ 4           ┆ true  │\n",
      "│ B         ┆ 2022-01-01 03:00:00 ┆ 3    ┆ null   ┆ 2          ┆ 4           ┆ true  │\n",
      "│ B         ┆ 2022-01-01 04:00:00 ┆ 4    ┆ null   ┆ 2          ┆ 4           ┆ false │\n",
      "└───────────┴─────────────────────┴──────┴────────┴────────────┴─────────────┴───────┘\n"
     ]
    }
   ],
   "source": [
    "# Add onset_step and wakeup_step to df_events\n",
    "df_events = df_events.with_columns(\n",
    "    onset_step = pl.when(pl.col('event') == 'onset').then(pl.col('step')),\n",
    "    wakeup_step = pl.when(pl.col('event') == 'wakeup').then(pl.col('step'))\n",
    ")\n",
    "\n",
    "# Merge df_signals and df_events\n",
    "df = df_signals.join(df_events, on=['series_id', 'timestamp', 'step'], how='left')\n",
    "\n",
    "# Sort by series_id and step\n",
    "df = df.sort(['series_id', 'step'])\n",
    "\n",
    "# Forward fill onset_step and wakeup_step\n",
    "df = df.with_columns(\n",
    "    onset_step = pl.col('onset_step').forward_fill(),\n",
    "    wakeup_step = pl.col('wakeup_step').forward_fill()\n",
    ")\n",
    "\n",
    "# Calculate state column\n",
    "df = df.with_columns(\n",
    "    state = (pl.col('step') >= pl.col('onset_step')) & (pl.col('step') < pl.col('wakeup_step')).fill_null(True)\n",
    ")\n",
    "\n",
    "print(df.drop('night'))\n"
   ]
  },
  {
   "cell_type": "markdown",
   "metadata": {},
   "source": [
    "**Merge data**"
   ]
  },
  {
   "cell_type": "code",
   "execution_count": 10,
   "metadata": {},
   "outputs": [],
   "source": [
    "# Add onset_step and wakeup_step to df_events\n",
    "df_events = df_events.with_columns(\n",
    "    onset_step = pl.when(pl.col('event') == 'onset').then(pl.col('step')),\n",
    "    wakeup_step = pl.when(pl.col('event') == 'wakeup').then(pl.col('step'))\n",
    ")"
   ]
  },
  {
   "cell_type": "code",
   "execution_count": 11,
   "metadata": {},
   "outputs": [],
   "source": [
    "# Merge df_signals and df_events\n",
    "df = df_signals.join(df_events, on=['series_id', 'timestamp', 'step'], how='left')\n",
    "\n",
    "# Sort by series_id and step\n",
    "df = df.sort(['series_id', 'step'])\n",
    "\n",
    "# Forward fill onset_step and wakeup_step\n",
    "df = df.with_columns(\n",
    "    onset_step = pl.col('onset_step').forward_fill(),\n",
    "    wakeup_step = pl.col('wakeup_step').forward_fill()\n",
    ")"
   ]
  },
  {
   "cell_type": "markdown",
   "metadata": {},
   "source": [
    "**Annotation Sleep // Awake**"
   ]
  },
  {
   "cell_type": "code",
   "execution_count": 12,
   "metadata": {},
   "outputs": [],
   "source": [
    "df = df.with_columns(\n",
    "    state = ((pl.col('step') >= pl.col('onset_step')) & (pl.col('step') < pl.col('wakeup_step'))).fill_null(True)\n",
    ").drop(['onset_step', 'wakeup_step'])"
   ]
  },
  {
   "cell_type": "markdown",
   "metadata": {},
   "source": [
    "**Missing Data**\n",
    "\n",
    "Remove signals 6 hours after awake and 6 hours before sleep when an annotation is missing"
   ]
  },
  {
   "cell_type": "code",
   "execution_count": 13,
   "metadata": {},
   "outputs": [],
   "source": [
    "# For each parquet file representing a time series\n",
    "# We will sort them by timestamp\n",
    "# if there are periods with 20 hours without sleep\n",
    "# We will remove a period of 16 hours because we consider the annotations as missing"
   ]
  },
  {
   "cell_type": "markdown",
   "metadata": {},
   "source": [
    "**Smoothing**"
   ]
  },
  {
   "cell_type": "code",
   "execution_count": 14,
   "metadata": {},
   "outputs": [],
   "source": [
    "# Your code here ..."
   ]
  },
  {
   "cell_type": "markdown",
   "metadata": {},
   "source": [
    "**Stratified Export**"
   ]
  },
  {
   "cell_type": "code",
   "execution_count": 15,
   "metadata": {},
   "outputs": [],
   "source": [
    "# Your code here ..."
   ]
  }
 ],
 "metadata": {
  "kernelspec": {
   "display_name": "ml",
   "language": "python",
   "name": "python3"
  },
  "language_info": {
   "codemirror_mode": {
    "name": "ipython",
    "version": 3
   },
   "file_extension": ".py",
   "mimetype": "text/x-python",
   "name": "python",
   "nbconvert_exporter": "python",
   "pygments_lexer": "ipython3",
   "version": "3.10.13"
  }
 },
 "nbformat": 4,
 "nbformat_minor": 2
}
