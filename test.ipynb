{
 "cells": [
  {
   "cell_type": "code",
   "execution_count": 1,
   "metadata": {},
   "outputs": [],
   "source": [
    "import pandas as pd\n",
    "import numpy as np\n",
    "import matplotlib.pyplot as plt\n",
    "import seaborn as sns\n",
    "import polars as pl\n",
    "\n",
    "from tqdm import tqdm"
   ]
  },
  {
   "cell_type": "code",
   "execution_count": 2,
   "metadata": {},
   "outputs": [],
   "source": [
    "# Extended signals data\n",
    "timestamps = ([f\"2022-01-01 {hour:02d}:00:00\" for hour in range(24)] + \n",
    "             [\"2022-01-02 00:00:00\"] +\n",
    "             [f\"2022-01-02 {hour:02d}:00:00\" for hour in range(1, 13)])\n",
    "\n",
    "df_signals = pl.DataFrame({\n",
    "    \"series_id\": [\"A\"] * 37 + [\"B\"] * 37 + [\"C\"] * 37,\n",
    "    \"timestamp\": timestamps * 3,\n",
    "    \"step\": list(range(1, 38)) * 3\n",
    "})\n",
    "\n",
    "# Extended events data\n",
    "df_events = pl.DataFrame({\n",
    "    \"series_id\": [\"A\", \"A\", \"A\", \"A\", \"B\", \"B\", \"C\"],\n",
    "    \"night\": [1, 1, 1, 1, 1, 1, 1],\n",
    "    \"event\": [\"onset\", \"wakeup\", \"onset\", \"wakeup\", \"onset\", \"wakeup\", \"onset\"],\n",
    "    \"timestamp\": [\"2022-01-01 02:00:00\", \"2022-01-01 14:00:00\",\"2022-01-01 22:00:00\", \"2022-01-02 08:00:00\", \"2022-01-01 03:00:00\",\n",
    "                 \"2022-01-01 15:00:00\", \"2022-01-01 04:00:00\"],\n",
    "    \"step\": [3, 15, 23, 33, 4, 16, 5]\n",
    "})\n"
   ]
  },
  {
   "cell_type": "code",
   "execution_count": 3,
   "metadata": {},
   "outputs": [],
   "source": [
    "#df_signals.write_csv(\"signals.csv\")\n",
    "df_events.write_csv(\"events.csv\")"
   ]
  },
  {
   "cell_type": "code",
   "execution_count": 4,
   "metadata": {},
   "outputs": [],
   "source": [
    "# # Detect and remove mismatched onsets/wakeups\n",
    "# mismatches = df_events.group_by(['series_id', 'night']).agg(\n",
    "#     (pl.col('event') == 'onset').sum().alias('onset'),\n",
    "#     (pl.col('event') == 'wakeup').sum().alias('wakeup')\n",
    "# ).filter(pl.col('onset') != pl.col('wakeup')).select(pl.all().exclude('onset', 'wakeup'))\n",
    "# df_events = df_events.join(mismatches, on=['series_id', 'night'], how='anti')\n"
   ]
  },
  {
   "cell_type": "code",
   "execution_count": 5,
   "metadata": {},
   "outputs": [
    {
     "data": {
      "text/html": [
       "<div><style>\n",
       ".dataframe > thead > tr > th,\n",
       ".dataframe > tbody > tr > td {\n",
       "  text-align: right;\n",
       "  white-space: pre-wrap;\n",
       "}\n",
       "</style>\n",
       "<small>shape: (7, 5)</small><table border=\"1\" class=\"dataframe\"><thead><tr><th>series_id</th><th>night</th><th>event</th><th>timestamp</th><th>step</th></tr><tr><td>str</td><td>i64</td><td>str</td><td>str</td><td>i64</td></tr></thead><tbody><tr><td>&quot;A&quot;</td><td>1</td><td>&quot;onset&quot;</td><td>&quot;2022-01-01 02:…</td><td>3</td></tr><tr><td>&quot;A&quot;</td><td>1</td><td>&quot;wakeup&quot;</td><td>&quot;2022-01-01 14:…</td><td>15</td></tr><tr><td>&quot;A&quot;</td><td>1</td><td>&quot;onset&quot;</td><td>&quot;2022-01-01 22:…</td><td>23</td></tr><tr><td>&quot;A&quot;</td><td>1</td><td>&quot;wakeup&quot;</td><td>&quot;2022-01-02 08:…</td><td>33</td></tr><tr><td>&quot;B&quot;</td><td>1</td><td>&quot;onset&quot;</td><td>&quot;2022-01-01 03:…</td><td>4</td></tr><tr><td>&quot;B&quot;</td><td>1</td><td>&quot;wakeup&quot;</td><td>&quot;2022-01-01 15:…</td><td>16</td></tr><tr><td>&quot;C&quot;</td><td>1</td><td>&quot;onset&quot;</td><td>&quot;2022-01-01 04:…</td><td>5</td></tr></tbody></table></div>"
      ],
      "text/plain": [
       "shape: (7, 5)\n",
       "┌───────────┬───────┬────────┬─────────────────────┬──────┐\n",
       "│ series_id ┆ night ┆ event  ┆ timestamp           ┆ step │\n",
       "│ ---       ┆ ---   ┆ ---    ┆ ---                 ┆ ---  │\n",
       "│ str       ┆ i64   ┆ str    ┆ str                 ┆ i64  │\n",
       "╞═══════════╪═══════╪════════╪═════════════════════╪══════╡\n",
       "│ A         ┆ 1     ┆ onset  ┆ 2022-01-01 02:00:00 ┆ 3    │\n",
       "│ A         ┆ 1     ┆ wakeup ┆ 2022-01-01 14:00:00 ┆ 15   │\n",
       "│ A         ┆ 1     ┆ onset  ┆ 2022-01-01 22:00:00 ┆ 23   │\n",
       "│ A         ┆ 1     ┆ wakeup ┆ 2022-01-02 08:00:00 ┆ 33   │\n",
       "│ B         ┆ 1     ┆ onset  ┆ 2022-01-01 03:00:00 ┆ 4    │\n",
       "│ B         ┆ 1     ┆ wakeup ┆ 2022-01-01 15:00:00 ┆ 16   │\n",
       "│ C         ┆ 1     ┆ onset  ┆ 2022-01-01 04:00:00 ┆ 5    │\n",
       "└───────────┴───────┴────────┴─────────────────────┴──────┘"
      ]
     },
     "execution_count": 5,
     "metadata": {},
     "output_type": "execute_result"
    }
   ],
   "source": [
    "df_events"
   ]
  },
  {
   "cell_type": "code",
   "execution_count": 9,
   "metadata": {},
   "outputs": [
    {
     "name": "stdout",
     "output_type": "stream",
     "text": [
      "shape: (3, 3)\n",
      "┌───────────┬─────────────────────┬─────────────────────┐\n",
      "│ series_id ┆ onset               ┆ wakeup              │\n",
      "│ ---       ┆ ---                 ┆ ---                 │\n",
      "│ str       ┆ str                 ┆ str                 │\n",
      "╞═══════════╪═════════════════════╪═════════════════════╡\n",
      "│ A         ┆ 2022-01-01 02:00:00 ┆ 2022-01-01 14:00:00 │\n",
      "│ B         ┆ 2022-01-01 03:00:00 ┆ 2022-01-01 15:00:00 │\n",
      "│ C         ┆ 2022-01-01 04:00:00 ┆ null                │\n",
      "└───────────┴─────────────────────┴─────────────────────┘\n"
     ]
    }
   ],
   "source": [
    "events_wide = df_events.pivot(index=['series_id'], columns='event', values='timestamp', aggregate_function='first')\n",
    "result = df_signals.join(events_wide, on='series_id').with_columns(\n",
    "    state = pl.col('timestamp').is_between('onset', 'wakeup')\n",
    ")\n",
    "print(events_wide.head())"
   ]
  },
  {
   "cell_type": "code",
   "execution_count": 31,
   "metadata": {},
   "outputs": [],
   "source": [
    "df_signals=df_signals.with_columns(\n",
    "    timestamp=pl.col('timestamp').str.strptime(pl.Datetime,\"%Y-%m-%d %H:%M:%S\")\n",
    "    )\n",
    "df_events=df_events.with_columns(\n",
    "    timestamp=pl.col('timestamp').str.strptime(pl.Datetime,\"%Y-%m-%d %H:%M:%S\")\n",
    "    )"
   ]
  },
  {
   "cell_type": "code",
   "execution_count": 48,
   "metadata": {},
   "outputs": [],
   "source": [
    "a = (\n",
    "    df_signals\n",
    "    .join_asof(\n",
    "        df_events,\n",
    "        on='step',\n",
    "        by='series_id',\n",
    "        strategy='backward',\n",
    "        )\n",
    "    .with_columns(\n",
    "        state= pl.when((pl.col('event')=='wakeup')).then(True).otherwise(False).cast(pl.Boolean)\n",
    "        )\n",
    ").write_csv(\"test.csv\")"
   ]
  },
  {
   "cell_type": "code",
   "execution_count": 40,
   "metadata": {},
   "outputs": [],
   "source": [
    "a.write_csv(\"test.csv\")"
   ]
  },
  {
   "cell_type": "code",
   "execution_count": 9,
   "metadata": {},
   "outputs": [
    {
     "name": "stdout",
     "output_type": "stream",
     "text": [
      "shape: (111, 6)\n",
      "┌───────────┬──────┬───────┬────────────┬─────────────┬───────┐\n",
      "│ series_id ┆ step ┆ event ┆ onset_step ┆ wakeup_step ┆ state │\n",
      "│ ---       ┆ ---  ┆ ---   ┆ ---        ┆ ---         ┆ ---   │\n",
      "│ str       ┆ i64  ┆ str   ┆ i64        ┆ i64         ┆ bool  │\n",
      "╞═══════════╪══════╪═══════╪════════════╪═════════════╪═══════╡\n",
      "│ A         ┆ 1    ┆ null  ┆ 3          ┆ 15          ┆ true  │\n",
      "│ A         ┆ 2    ┆ null  ┆ 3          ┆ 15          ┆ true  │\n",
      "│ A         ┆ 3    ┆ onset ┆ 3          ┆ 15          ┆ false │\n",
      "│ A         ┆ 4    ┆ null  ┆ 23         ┆ 15          ┆ true  │\n",
      "│ …         ┆ …    ┆ …     ┆ …          ┆ …           ┆ …     │\n",
      "│ C         ┆ 34   ┆ null  ┆ null       ┆ null        ┆ true  │\n",
      "│ C         ┆ 35   ┆ null  ┆ null       ┆ null        ┆ true  │\n",
      "│ C         ┆ 36   ┆ null  ┆ null       ┆ null        ┆ true  │\n",
      "│ C         ┆ 37   ┆ null  ┆ null       ┆ null        ┆ true  │\n",
      "└───────────┴──────┴───────┴────────────┴─────────────┴───────┘\n"
     ]
    }
   ],
   "source": [
    "# Add onset_step and wakeup_step to df_events\n",
    "df_events = df_events.with_columns(\n",
    "    onset_step = pl.when(pl.col('event') == 'onset').then(pl.col('step')),\n",
    "    wakeup_step = pl.when(pl.col('event') == 'wakeup').then(pl.col('step'))\n",
    ")\n",
    "\n",
    "# Merge df_signals and df_events\n",
    "df = df_signals.join(df_events, on=['series_id', 'timestamp', 'step'], how='left')\n",
    "\n",
    "# Sort by series_id and step\n",
    "df = df.sort(['series_id', 'step'])\n",
    "\n",
    "# Forward fill onset_step and wakeup_step\n",
    "df = df.with_columns(\n",
    "    onset_step = pl.col('onset_step').backward_fill(),\n",
    "    wakeup_step = pl.col('wakeup_step').backward_fill()\n",
    ")\n",
    "\n",
    "# Calculate state column\n",
    "df = df.with_columns(\n",
    "    state = pl.when(\n",
    "        (pl.col('step') >= pl.col('onset_step')) \n",
    "        & \n",
    "        (pl.col('step') < pl.col('wakeup_step'))\n",
    "        ).then(False).fill_null(True)\n",
    ")\n",
    "\n",
    "print(df.drop('night','timestamp'))\n",
    "df.write_csv('test.csv')"
   ]
  }
 ],
 "metadata": {
  "kernelspec": {
   "display_name": "ml",
   "language": "python",
   "name": "python3"
  },
  "language_info": {
   "codemirror_mode": {
    "name": "ipython",
    "version": 3
   },
   "file_extension": ".py",
   "mimetype": "text/x-python",
   "name": "python",
   "nbconvert_exporter": "python",
   "pygments_lexer": "ipython3",
   "version": "3.10.13"
  }
 },
 "nbformat": 4,
 "nbformat_minor": 2
}
