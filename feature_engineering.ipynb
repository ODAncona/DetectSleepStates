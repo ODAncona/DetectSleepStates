{
 "cells": [
  {
   "cell_type": "markdown",
   "metadata": {},
   "source": [
    "# Feature Engineering\n",
    "\n",
    "This notebook will compute all the features.\n",
    "\n",
    "The features will consist of:\n",
    "- Rolling aggregates (mean, max, std) of anglez and enmo over a variety of window sizes, from 5 minutes to 8 hours.\n",
    "- Rolling aggregates (mean, max, std) of anglez and enmo total variation (or first variation, i.e. 1v) over a variety of window sizes, from 5 minutes to 8 hours.\n",
    "\n",
    "\n",
    "https://www.kaggle.com/code/lccburk/feature-engineering-and-random-forest-prediction"
   ]
  },
  {
   "cell_type": "markdown",
   "metadata": {},
   "source": [
    "**Imports**"
   ]
  },
  {
   "cell_type": "code",
   "execution_count": 1,
   "metadata": {},
   "outputs": [],
   "source": [
    "import pandas as pd\n",
    "import numpy as np\n",
    "import matplotlib.pyplot as plt\n",
    "import seaborn as sns\n",
    "import polars as pl\n",
    "\n",
    "from tqdm import tqdm"
   ]
  },
  {
   "cell_type": "markdown",
   "metadata": {},
   "source": [
    "**Parameters**"
   ]
  },
  {
   "cell_type": "code",
   "execution_count": 2,
   "metadata": {},
   "outputs": [],
   "source": [
    "WINDOW_SIZES = [5, 30, 2*60, 8*60] # 5min, 30min, 2hours, 8hours\n",
    "\n",
    "ID_COLUMNS = ['series_id', 'step', 'timestamp']\n",
    "\n",
    "FEATURE_TIME_NAMES = [\n",
    "    \"hour_sin\",\n",
    "    \"hour_cos\",\n",
    "    \"month_sin\",\n",
    "    \"month_cos\",\n",
    "    \"minute_sin\",\n",
    "    \"minute_cos\",\n",
    "    \"anglez_sin\",\n",
    "    \"anglez_cos\",\n",
    "]\n"
   ]
  },
  {
   "cell_type": "markdown",
   "metadata": {},
   "source": [
    "**Import Data**"
   ]
  },
  {
   "cell_type": "code",
   "execution_count": 3,
   "metadata": {},
   "outputs": [],
   "source": [
    "df = pl.read_parquet('data/78569a801a38.parquet')"
   ]
  },
  {
   "cell_type": "code",
   "execution_count": 4,
   "metadata": {},
   "outputs": [
    {
     "name": "stdout",
     "output_type": "stream",
     "text": [
      "shape: (5, 8)\n",
      "┌──────────────┬──────┬─────────────────────────┬──────────┬──────────┬───────┬────────┬───────┐\n",
      "│ series_id    ┆ step ┆ timestamp               ┆ anglez   ┆ enmo     ┆ state ┆ wakeup ┆ onset │\n",
      "│ ---          ┆ ---  ┆ ---                     ┆ ---      ┆ ---      ┆ ---   ┆ ---    ┆ ---   │\n",
      "│ str          ┆ u32  ┆ datetime[μs, UTC]       ┆ f32      ┆ f32      ┆ i32   ┆ bool   ┆ bool  │\n",
      "╞══════════════╪══════╪═════════════════════════╪══════════╪══════════╪═══════╪════════╪═══════╡\n",
      "│ 78569a801a38 ┆ 0    ┆ 2017-08-17 20:45:00 UTC ┆ 0.49135  ┆ 0.028832 ┆ 0     ┆ false  ┆ false │\n",
      "│ 78569a801a38 ┆ 1    ┆ 2017-08-17 20:45:05 UTC ┆ 0.646426 ┆ 0.022966 ┆ 0     ┆ false  ┆ false │\n",
      "│ 78569a801a38 ┆ 2    ┆ 2017-08-17 20:45:10 UTC ┆ 0.385461 ┆ 0.017266 ┆ 0     ┆ false  ┆ false │\n",
      "│ 78569a801a38 ┆ 3    ┆ 2017-08-17 20:45:15 UTC ┆ 0.167985 ┆ 0.026895 ┆ 0     ┆ false  ┆ false │\n",
      "│ 78569a801a38 ┆ 4    ┆ 2017-08-17 20:45:20 UTC ┆ 0.154722 ┆ 0.019369 ┆ 0     ┆ false  ┆ false │\n",
      "└──────────────┴──────┴─────────────────────────┴──────────┴──────────┴───────┴────────┴───────┘\n"
     ]
    }
   ],
   "source": [
    "print(df.head())"
   ]
  },
  {
   "cell_type": "code",
   "execution_count": 5,
   "metadata": {},
   "outputs": [],
   "source": [
    "df = df.with_columns(\n",
    "    year=df['timestamp'].dt.year().cast(pl.Int16),\n",
    "    month=df['timestamp'].dt.month().cast(pl.Int8),\n",
    "    day=df['timestamp'].dt.day().cast(pl.Int8),\n",
    "    hour=df['timestamp'].dt.hour().cast(pl.Int8),\n",
    "    minute=df['timestamp'].dt.minute().cast(pl.Int8),\n",
    "    second=df['timestamp'].dt.second().cast(pl.Int8),\n",
    ")"
   ]
  },
  {
   "cell_type": "markdown",
   "metadata": {},
   "source": [
    "**Compute Features**"
   ]
  },
  {
   "cell_type": "code",
   "execution_count": 6,
   "metadata": {},
   "outputs": [],
   "source": [
    "features, feature_cols = [pl.col('hour')], ['hour']\n",
    "\n",
    "for mins in WINDOW_SIZES :\n",
    "    for var in ['enmo', 'anglez'] :\n",
    "        \n",
    "        # Getting basic features\n",
    "        features += [\n",
    "            pl.col(var).rolling_mean(2 * mins, center=True, min_periods=1).abs().cast(pl.UInt16).alias(f'{var}_{mins}m_mean'),\n",
    "            pl.col(var).rolling_max(2 * mins, center=True, min_periods=1).abs().cast(pl.UInt16).alias(f'{var}_{mins}m_max'),\n",
    "            pl.col(var).rolling_std(2 * mins, center=True, min_periods=1).abs().cast(pl.UInt16).alias(f'{var}_{mins}m_std')\n",
    "        ]\n",
    "\n",
    "        feature_cols += [ \n",
    "            f'{var}_{mins}m_mean', f'{var}_{mins}m_max', f'{var}_{mins}m_std'\n",
    "        ]\n",
    "\n",
    "        # Getting first variations\n",
    "        features += [\n",
    "            (pl.col(var).diff().abs().rolling_mean(2 * mins, center=True, min_periods=1)*10).abs().cast(pl.UInt32).alias(f'{var}_1v_{mins}m_mean'),\n",
    "            (pl.col(var).diff().abs().rolling_max(2 * mins, center=True, min_periods=1)*10).abs().cast(pl.UInt32).alias(f'{var}_1v_{mins}m_max'),\n",
    "            (pl.col(var).diff().abs().rolling_std(2 * mins, center=True, min_periods=1)*10).abs().cast(pl.UInt32).alias(f'{var}_1v_{mins}m_std')\n",
    "        ]\n",
    "\n",
    "        feature_cols += [ \n",
    "            f'{var}_1v_{mins}m_mean', f'{var}_1v_{mins}m_max', f'{var}_1v_{mins}m_std'\n",
    "        ]\n",
    "\n"
   ]
  },
  {
   "cell_type": "code",
   "execution_count": 7,
   "metadata": {},
   "outputs": [],
   "source": [
    "train_series = df.with_columns(\n",
    "    features\n",
    ").select(ID_COLUMNS + feature_cols)\n"
   ]
  },
  {
   "cell_type": "code",
   "execution_count": 11,
   "metadata": {},
   "outputs": [],
   "source": [
    "def to_coord(x: pl.Expr, max_: int, name: str) -> list[pl.Expr]:\n",
    "    rad = 2 * np.pi * (x % max_) / max_\n",
    "    x_sin = rad.sin()\n",
    "    x_cos = rad.cos()\n",
    "\n",
    "    return [x_sin.alias(f\"{name}_sin\"), x_cos.alias(f\"{name}_cos\")]\n",
    "\n",
    "\n",
    "def deg_to_rad(x: pl.Expr) -> pl.Expr:\n",
    "    return np.pi / 180 * x\n",
    "\n",
    "\n",
    "def add_feature(series_df: pl.DataFrame) -> pl.DataFrame:\n",
    "    series_df = (\n",
    "        series_df.with_row_count(\"step\")\n",
    "        .with_columns(\n",
    "            *to_coord(pl.col(\"hour\"), 24, \"hour\"),\n",
    "            *to_coord(pl.col(\"month\"), 12, \"month\"),\n",
    "            *to_coord(pl.col(\"minute\"), 60, \"minute\"),\n",
    "            pl.col('anglez_rad').sin().alias('anglez_sin'),\n",
    "            pl.col('anglez_rad').cos().alias('anglez_cos'),\n",
    "        )\n",
    "    )\n",
    "    return series_df"
   ]
  },
  {
   "cell_type": "code",
   "execution_count": 12,
   "metadata": {},
   "outputs": [
    {
     "ename": "DuplicateError",
     "evalue": "column with name 'step' has more than one occurrences",
     "output_type": "error",
     "traceback": [
      "\u001b[0;31m---------------------------------------------------------------------------\u001b[0m",
      "\u001b[0;31mDuplicateError\u001b[0m                            Traceback (most recent call last)",
      "\u001b[0;32m/tmp/ipykernel_165175/3479033229.py\u001b[0m in \u001b[0;36m?\u001b[0;34m()\u001b[0m\n\u001b[0;32m----> 1\u001b[0;31m \u001b[0madd_feature\u001b[0m\u001b[0;34m(\u001b[0m\u001b[0mtrain_series\u001b[0m\u001b[0;34m)\u001b[0m\u001b[0;34m\u001b[0m\u001b[0;34m\u001b[0m\u001b[0m\n\u001b[0m",
      "\u001b[0;32m/tmp/ipykernel_165175/1074324482.py\u001b[0m in \u001b[0;36m?\u001b[0;34m(series_df)\u001b[0m\n\u001b[1;32m     13\u001b[0m \u001b[0;32mdef\u001b[0m \u001b[0madd_feature\u001b[0m\u001b[0;34m(\u001b[0m\u001b[0mseries_df\u001b[0m\u001b[0;34m:\u001b[0m \u001b[0mpl\u001b[0m\u001b[0;34m.\u001b[0m\u001b[0mDataFrame\u001b[0m\u001b[0;34m)\u001b[0m \u001b[0;34m->\u001b[0m \u001b[0mpl\u001b[0m\u001b[0;34m.\u001b[0m\u001b[0mDataFrame\u001b[0m\u001b[0;34m:\u001b[0m\u001b[0;34m\u001b[0m\u001b[0;34m\u001b[0m\u001b[0m\n\u001b[1;32m     14\u001b[0m     series_df = (\n\u001b[0;32m---> 15\u001b[0;31m         \u001b[0mseries_df\u001b[0m\u001b[0;34m.\u001b[0m\u001b[0mwith_row_count\u001b[0m\u001b[0;34m(\u001b[0m\u001b[0;34m\"step\"\u001b[0m\u001b[0;34m)\u001b[0m\u001b[0;34m\u001b[0m\u001b[0;34m\u001b[0m\u001b[0m\n\u001b[0m\u001b[1;32m     16\u001b[0m         .with_columns(\n\u001b[1;32m     17\u001b[0m             \u001b[0;34m*\u001b[0m\u001b[0mto_coord\u001b[0m\u001b[0;34m(\u001b[0m\u001b[0mpl\u001b[0m\u001b[0;34m.\u001b[0m\u001b[0mcol\u001b[0m\u001b[0;34m(\u001b[0m\u001b[0;34m\"hour\"\u001b[0m\u001b[0;34m)\u001b[0m\u001b[0;34m,\u001b[0m \u001b[0;36m24\u001b[0m\u001b[0;34m,\u001b[0m \u001b[0;34m\"hour\"\u001b[0m\u001b[0;34m)\u001b[0m\u001b[0;34m,\u001b[0m\u001b[0;34m\u001b[0m\u001b[0;34m\u001b[0m\u001b[0m\n\u001b[1;32m     18\u001b[0m             \u001b[0;34m*\u001b[0m\u001b[0mto_coord\u001b[0m\u001b[0;34m(\u001b[0m\u001b[0mpl\u001b[0m\u001b[0;34m.\u001b[0m\u001b[0mcol\u001b[0m\u001b[0;34m(\u001b[0m\u001b[0;34m\"month\"\u001b[0m\u001b[0;34m)\u001b[0m\u001b[0;34m,\u001b[0m \u001b[0;36m12\u001b[0m\u001b[0;34m,\u001b[0m \u001b[0;34m\"month\"\u001b[0m\u001b[0;34m)\u001b[0m\u001b[0;34m,\u001b[0m\u001b[0;34m\u001b[0m\u001b[0;34m\u001b[0m\u001b[0m\n",
      "\u001b[0;32m~/anaconda3/envs/ml/lib/python3.10/site-packages/polars/dataframe/frame.py\u001b[0m in \u001b[0;36m?\u001b[0;34m(self, name, offset)\u001b[0m\n\u001b[1;32m   4982\u001b[0m         \u001b[0;31m│\u001b[0m \u001b[0;36m2\u001b[0m\u001b[0;31m \u001b[0m\u001b[0;31m \u001b[0m\u001b[0;31m \u001b[0m\u001b[0;31m \u001b[0m\u001b[0;31m \u001b[0m\u001b[0;31m \u001b[0m\u001b[0;31m┆\u001b[0m \u001b[0;36m5\u001b[0m\u001b[0;31m \u001b[0m\u001b[0;31m \u001b[0m\u001b[0;31m \u001b[0m\u001b[0;31m┆\u001b[0m \u001b[0;36m6\u001b[0m\u001b[0;31m \u001b[0m\u001b[0;31m \u001b[0m\u001b[0;31m \u001b[0m\u001b[0;31m│\u001b[0m\u001b[0;34m\u001b[0m\u001b[0;34m\u001b[0m\u001b[0m\n\u001b[1;32m   4983\u001b[0m         \u001b[0;31m└\u001b[0m\u001b[0;31m─\u001b[0m\u001b[0;31m─\u001b[0m\u001b[0;31m─\u001b[0m\u001b[0;31m─\u001b[0m\u001b[0;31m─\u001b[0m\u001b[0;31m─\u001b[0m\u001b[0;31m─\u001b[0m\u001b[0;31m─\u001b[0m\u001b[0;31m┴\u001b[0m\u001b[0;31m─\u001b[0m\u001b[0;31m─\u001b[0m\u001b[0;31m─\u001b[0m\u001b[0;31m─\u001b[0m\u001b[0;31m─\u001b[0m\u001b[0;31m┴\u001b[0m\u001b[0;31m─\u001b[0m\u001b[0;31m─\u001b[0m\u001b[0;31m─\u001b[0m\u001b[0;31m─\u001b[0m\u001b[0;31m─\u001b[0m\u001b[0;31m┘\u001b[0m\u001b[0;34m\u001b[0m\u001b[0;34m\u001b[0m\u001b[0m\n\u001b[1;32m   4984\u001b[0m \u001b[0;34m\u001b[0m\u001b[0m\n\u001b[1;32m   4985\u001b[0m         \"\"\"\n\u001b[0;32m-> 4986\u001b[0;31m         \u001b[0;32mreturn\u001b[0m \u001b[0mself\u001b[0m\u001b[0;34m.\u001b[0m\u001b[0m_from_pydf\u001b[0m\u001b[0;34m(\u001b[0m\u001b[0mself\u001b[0m\u001b[0;34m.\u001b[0m\u001b[0m_df\u001b[0m\u001b[0;34m.\u001b[0m\u001b[0mwith_row_count\u001b[0m\u001b[0;34m(\u001b[0m\u001b[0mname\u001b[0m\u001b[0;34m,\u001b[0m \u001b[0moffset\u001b[0m\u001b[0;34m)\u001b[0m\u001b[0;34m)\u001b[0m\u001b[0;34m\u001b[0m\u001b[0;34m\u001b[0m\u001b[0m\n\u001b[0m",
      "\u001b[0;31mDuplicateError\u001b[0m: column with name 'step' has more than one occurrences"
     ]
    }
   ],
   "source": [
    "add_feature(train_series)"
   ]
  }
 ],
 "metadata": {
  "kernelspec": {
   "display_name": "ml",
   "language": "python",
   "name": "python3"
  },
  "language_info": {
   "codemirror_mode": {
    "name": "ipython",
    "version": 3
   },
   "file_extension": ".py",
   "mimetype": "text/x-python",
   "name": "python",
   "nbconvert_exporter": "python",
   "pygments_lexer": "ipython3",
   "version": "3.10.13"
  }
 },
 "nbformat": 4,
 "nbformat_minor": 2
}
